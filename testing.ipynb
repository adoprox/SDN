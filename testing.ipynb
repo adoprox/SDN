{
 "cells": [
  {
   "cell_type": "code",
   "execution_count": null,
   "metadata": {},
   "outputs": [],
   "source": [
    "import requests\n",
    "from requests.auth import HTTPBasicAuth\n",
    "\n",
    "# Fetch flows information from the ONOS controller\n",
    "response = requests.get(\"http://localhost:8181/onos/v1/flows/of%3A0000000000000001\", auth=(\"onos\", \"rocks\"))\n",
    "flows = response.json()\n",
    "\n",
    "# Define the IP address for filtering\n",
    "ip = \"10.0.0.1\"\n",
    "\n",
    "# Filter flow IDs based on specific criteria\n",
    "filtered_flow_ids = [\n",
    "    entry['id'] for entry in flows.get(\"flows\", [])\n",
    "    if entry.get(\"appId\") == \"org.onosproject.rest\"\n",
    "    and any(\n",
    "        criterion.get(\"type\") == \"IPV4_SRC\" and criterion.get(\"ip\") == \"10.0.0.1/32\"\n",
    "        for criterion in entry.get(\"selector\", {}).get(\"criteria\", [])\n",
    "    )\n",
    "    and any(\n",
    "        instruction.get(\"type\") == \"OUTPUT\"\n",
    "        for instruction in entry.get(\"treatment\", {}).get(\"instructions\", [])\n",
    "    )\n",
    "]\n",
    "\n",
    "# Set headers for the DELETE requests\n",
    "headers = {'Accept': 'application/json'}\n",
    "base_url = \"http://localhost:8181/onos/v1/flows/of%3A0000000000000001/\"\n",
    "\n",
    "# Iterate through filtered flow IDs and send DELETE requests\n",
    "for flow_id in filtered_flow_ids:\n",
    "    url = f\"{base_url}{flow_id}\"\n",
    "    response = requests.delete(url, headers=headers, auth=(\"onos\", \"rocks\"))\n",
    "    print(response)  # Print the response for each delete request"
   ]
  }
 ],
 "metadata": {
  "kernelspec": {
   "display_name": "Python 3",
   "language": "python",
   "name": "python3"
  },
  "language_info": {
   "name": "python",
   "version": "3.11.5"
  }
 },
 "nbformat": 4,
 "nbformat_minor": 2
}
