{
 "cells": [
  {
   "cell_type": "code",
   "execution_count": 1,
   "metadata": {},
   "outputs": [
    {
     "name": "stdout",
     "output_type": "stream",
     "text": [
      "Error: Unable to fetch data. Status code: 404\n"
     ]
    }
   ],
   "source": [
    "import requests\n",
    "\n",
    "def get_json_data(url):\n",
    "    try:\n",
    "        # Make a GET request to the specified URL\n",
    "        response = requests.get(url)\n",
    "        \n",
    "        # Check if the request was successful (status code 200)\n",
    "        if response.status_code == 200:\n",
    "            # Parse the JSON data from the response\n",
    "            json_data = response.json()\n",
    "            return json_data\n",
    "        else:\n",
    "            print(f\"Error: Unable to fetch data. Status code: {response.status_code}\")\n",
    "            return None\n",
    "    except Exception as e:\n",
    "        print(f\"An error occurred: {e}\")\n",
    "        return None\n",
    "\n",
    "def list_variables(json_data, parent_key=''):\n",
    "    # Recursively iterate through the JSON data and print variable names\n",
    "    for key, value in json_data.items():\n",
    "        full_key = f\"{parent_key}.{key}\" if parent_key else key\n",
    "        if isinstance(value, dict):\n",
    "            list_variables(value, parent_key=full_key)\n",
    "        else:\n",
    "            print(full_key)\n",
    "\n",
    "if __name__ == \"__main__\":\n",
    "    # Replace the URL with the actual URL of the JSON file\n",
    "    json_url = \"https://example.com/path/to/your/json/file.json\"\n",
    "\n",
    "    # Fetch JSON data from the URL\n",
    "    json_data = get_json_data(json_url)\n",
    "\n",
    "    # If data is fetched successfully, list variables\n",
    "    if json_data:\n",
    "        list_variables(json_data)\n"
   ]
  },
  {
   "cell_type": "code",
   "execution_count": 2,
   "metadata": {},
   "outputs": [
    {
     "name": "stdout",
     "output_type": "stream",
     "text": [
      "user1\n",
      "user2\n",
      "user3\n"
     ]
    }
   ],
   "source": [
    "import json\n",
    "\n",
    "# Specify the path to your JSON file\n",
    "json_file_path = 'C:/Users/adop/OneDrive - Danmarks Tekniske Universitet/Dokumenter/GITHUB/SDN/credentials.json'\n",
    "\n",
    "try:\n",
    "    # Open the JSON file for reading\n",
    "    with open(json_file_path, 'r') as file:\n",
    "        # Load the JSON data\n",
    "        json_data = json.load(file)\n",
    "        \n",
    "        # Now you can work with the JSON data as a Python dictionary\n",
    "        # print(json_data)\n",
    "        \n",
    "        # Access specific values using keys\n",
    "        # For example, if the JSON has a key 'example_key', you can access its value like this:\n",
    "        # example_value = json_data['example_key']\n",
    "        # print(example_value)\n",
    "except FileNotFoundError:\n",
    "    print(f\"Error: File not found at {json_file_path}\")\n",
    "except json.JSONDecodeError as e:\n",
    "    print(f\"Error decoding JSON: {e}\")\n",
    "except Exception as e:\n",
    "    print(f\"An error occurred: {e}\")\n",
    "\n",
    "list_variables(json_data)"
   ]
  },
  {
   "cell_type": "code",
   "execution_count": 5,
   "metadata": {},
   "outputs": [],
   "source": [
    "def list_variables(json_data, parent_key=''):\n",
    "    # Recursively iterate through the JSON data and print variable names\n",
    "    for key, value in json_data.items():\n",
    "        full_key = f\"{parent_key}.{key}\" if parent_key else key\n",
    "        if isinstance(value, dict):\n",
    "            list_variables(value, parent_key=full_key)\n",
    "        else:\n",
    "            print(full_key)"
   ]
  },
  {
   "cell_type": "code",
   "execution_count": null,
   "metadata": {},
   "outputs": [],
   "source": []
  }
 ],
 "metadata": {
  "kernelspec": {
   "display_name": "Python 3",
   "language": "python",
   "name": "python3"
  },
  "language_info": {
   "codemirror_mode": {
    "name": "ipython",
    "version": 3
   },
   "file_extension": ".py",
   "mimetype": "text/x-python",
   "name": "python",
   "nbconvert_exporter": "python",
   "pygments_lexer": "ipython3",
   "version": "3.11.5"
  }
 },
 "nbformat": 4,
 "nbformat_minor": 2
}
